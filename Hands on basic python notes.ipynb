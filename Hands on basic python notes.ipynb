{
 "cells": [
  {
   "cell_type": "markdown",
   "metadata": {},
   "source": [
    "# VARIABLES AND STRINGS"
   ]
  },
  {
   "cell_type": "code",
   "execution_count": 1,
   "metadata": {},
   "outputs": [
    {
     "name": "stdout",
     "output_type": "stream",
     "text": [
      "Hello World\n"
     ]
    }
   ],
   "source": [
    "print(\"Hello World\")"
   ]
  },
  {
   "cell_type": "code",
   "execution_count": 2,
   "metadata": {},
   "outputs": [
    {
     "name": "stdout",
     "output_type": "stream",
     "text": [
      "Hello World\n"
     ]
    }
   ],
   "source": [
    "msg=\"Hello World\"\n",
    "print(msg)"
   ]
  },
  {
   "cell_type": "code",
   "execution_count": 3,
   "metadata": {},
   "outputs": [
    {
     "name": "stdout",
     "output_type": "stream",
     "text": [
      "Atishay Kasliwal\n"
     ]
    }
   ],
   "source": [
    "first_name = \"Atishay\"\n",
    "last_name= \"Kasliwal\"\n",
    "Full_name = first_name + ' ' + last_name\n",
    "print(Full_name)"
   ]
  },
  {
   "cell_type": "markdown",
   "metadata": {},
   "source": [
    "# USER INPUT\n",
    "your programs can prompt the user for input. All input is stored as a string."
   ]
  },
  {
   "cell_type": "code",
   "execution_count": 4,
   "metadata": {},
   "outputs": [
    {
     "name": "stdout",
     "output_type": "stream",
     "text": [
      "What's your name? Atishay Kasliwal\n",
      "Hello Atishay Kasliwal !\n"
     ]
    }
   ],
   "source": [
    "#Prompting for a value\n",
    "name =input(\"What's your name? \")\n",
    "print(\"Hello \" + name + \" !\")"
   ]
  },
  {
   "cell_type": "code",
   "execution_count": 5,
   "metadata": {},
   "outputs": [
    {
     "name": "stdout",
     "output_type": "stream",
     "text": [
      "how old are you ? 21\n"
     ]
    }
   ],
   "source": [
    "age = input(\"how old are you ? \")\n",
    "age = int(age)"
   ]
  },
  {
   "cell_type": "code",
   "execution_count": 6,
   "metadata": {},
   "outputs": [
    {
     "name": "stdout",
     "output_type": "stream",
     "text": [
      "what's the value of Pi? 3.14\n"
     ]
    }
   ],
   "source": [
    "pi = input(\"what's the value of Pi? \")\n",
    "pi = float(pi)"
   ]
  },
  {
   "cell_type": "markdown",
   "metadata": {},
   "source": [
    "# Functions\n",
    "functions are named bloacks of code, designed to do one specific job. Function allow you to writie code once that can then be whenever you need to accomplish the same task. Function can take in the information they need, and return the information they generate. Using functions effectively makes your programs easier to write, read, test and fix. \n",
    "\n"
   ]
  },
  {
   "cell_type": "markdown",
   "metadata": {},
   "source": [
    "# Defining a function\n",
    "The first line of a function is its definition, marked by the keyword def. The name of the function is followed by a set of parentheses and a colon. To call a function give the name of the function followed by a set of parentheses.\n"
   ]
  },
  {
   "cell_type": "code",
   "execution_count": 7,
   "metadata": {},
   "outputs": [
    {
     "name": "stdout",
     "output_type": "stream",
     "text": [
      "Hello!\n"
     ]
    },
    {
     "data": {
      "text/plain": [
       "{<function __main__.greet_user()>}"
      ]
     },
     "execution_count": 7,
     "metadata": {},
     "output_type": "execute_result"
    }
   ],
   "source": [
    "# A simple Function\n",
    "def greet_user():\n",
    "    \"\"\"Display a simple greeting.\"\"\"\n",
    "    print(\"Hello!\")\n",
    "greet_user()\n",
    "{greet_user}"
   ]
  },
  {
   "cell_type": "markdown",
   "metadata": {},
   "source": [
    "# Passing argument to a function\n",
    "Information passed to a function is called an argument, and information received by a function is called a parameter. Arguments are included in parentheses after the function's name, and parameters are listed in parentheses in the function's definition."
   ]
  },
  {
   "cell_type": "code",
   "execution_count": 8,
   "metadata": {},
   "outputs": [
    {
     "name": "stdout",
     "output_type": "stream",
     "text": [
      "Hello Atishay!\n",
      "Hello Jesse!\n",
      "Hello Diana!\n",
      "Hello Brandon!\n"
     ]
    }
   ],
   "source": [
    "def greet_user(username):\n",
    "    \"\"\"Display a Personalized greeting\"\"\"\n",
    "    print(\"Hello \" + username + \"!\")\n",
    "greet_user('Atishay')\n",
    "greet_user('Jesse')\n",
    "greet_user('Diana')\n",
    "greet_user('Brandon')"
   ]
  },
  {
   "cell_type": "code",
   "execution_count": 9,
   "metadata": {},
   "outputs": [
    {
     "name": "stdout",
     "output_type": "stream",
     "text": [
      "Have a Corn pizza!\n",
      "Have a panner pizza!\n"
     ]
    }
   ],
   "source": [
    "#Default values for Parameters\n",
    "def make_pizza(topping ='Corn'):\n",
    "    \"\"\"Make a Single-topping pizza.\"\"\"\n",
    "    print(\"Have a \" + topping + \" pizza!\")\n",
    "make_pizza()\n",
    "make_pizza('panner')"
   ]
  },
  {
   "cell_type": "code",
   "execution_count": 10,
   "metadata": {},
   "outputs": [
    {
     "name": "stdout",
     "output_type": "stream",
     "text": [
      "13398\n"
     ]
    }
   ],
   "source": [
    "#returning a value\n",
    "def add_numbers(x, y):\n",
    "    \"\"\"Add two numbers and return the sum.\"\"\"\n",
    "    return x + y\n",
    "sum = add_numbers(5863, 7535)\n",
    "print(sum)"
   ]
  },
  {
   "cell_type": "markdown",
   "metadata": {},
   "source": [
    "# While Loop\n",
    "A while loop repeats a block of code as long as a certaincondition is true."
   ]
  },
  {
   "cell_type": "code",
   "execution_count": 11,
   "metadata": {},
   "outputs": [
    {
     "name": "stdout",
     "output_type": "stream",
     "text": [
      "1\n",
      "2\n",
      "3\n",
      "4\n",
      "5\n"
     ]
    }
   ],
   "source": [
    "current_value = 1\n",
    "while current_value <=5:\n",
    "    print(current_value)\n",
    "    current_value +=1"
   ]
  },
  {
   "cell_type": "markdown",
   "metadata": {},
   "source": [
    "# Letting the user choose when to quit"
   ]
  },
  {
   "cell_type": "code",
   "execution_count": 12,
   "metadata": {},
   "outputs": [
    {
     "name": "stdout",
     "output_type": "stream",
     "text": [
      "what's your message? hello\n",
      "hello\n",
      "what's your message? quit\n",
      "quit\n"
     ]
    }
   ],
   "source": [
    "msg = ' '\n",
    "while msg != 'quit' :\n",
    "    msg = input(\"what's your message? \")\n",
    "    print(msg)"
   ]
  },
  {
   "cell_type": "code",
   "execution_count": 13,
   "metadata": {},
   "outputs": [
    {
     "name": "stdout",
     "output_type": "stream",
     "text": [
      "\n",
      "Tell me something, and I'll repeat it back to you\n",
      "Enter 'quit' to end the program.hello\n",
      "hello\n",
      "\n",
      "Tell me something, and I'll repeat it back to you\n",
      "Enter 'quit' to end the program.quit\n"
     ]
    }
   ],
   "source": [
    "#using a flag\n",
    "prompt = \"\\nTell me something, and I'll\"\n",
    "prompt += \" repeat it back to you\"\n",
    "prompt += \"\\nEnter 'quit' to end the program.\"\n",
    "\n",
    "active = True\n",
    "while active:\n",
    "    message = input(prompt)\n",
    "    \n",
    "    if message == 'quit':\n",
    "        active = False\n",
    "    else:\n",
    "        print(message)"
   ]
  },
  {
   "cell_type": "code",
   "execution_count": 14,
   "metadata": {},
   "outputs": [
    {
     "name": "stdout",
     "output_type": "stream",
     "text": [
      "\n",
      "What cities have you visited?\n",
      "Enter 'quit' when you're done.Indore\n",
      "I've been to Indore!\n",
      "\n",
      "What cities have you visited?\n",
      "Enter 'quit' when you're done.quit\n"
     ]
    }
   ],
   "source": [
    "#Using break to exit a loop\n",
    "prompt = \"\\nWhat cities have you visited?\"\n",
    "prompt += \"\\nEnter 'quit' when you're done.\"\n",
    "\n",
    "while True:\n",
    "    city = input(prompt)\n",
    "    \n",
    "    if city == 'quit':\n",
    "        break\n",
    "    else:\n",
    "        print(\"I've been to \" + city +\"!\" )"
   ]
  },
  {
   "cell_type": "code",
   "execution_count": 16,
   "metadata": {},
   "outputs": [
    {
     "name": "stdout",
     "output_type": "stream",
     "text": [
      "\n",
      "Add a player to your team.\n",
      "Enter 'quit' when you're done.Atishay Kasliwal\n",
      "\n",
      "Add a player to your team.\n",
      "Enter 'quit' when you're done.quit\n",
      "\n",
      "Your team: \n",
      "Atishay Kasliwal\n"
     ]
    }
   ],
   "source": [
    "#Using continue in a loop\n",
    "banned_users = ['eve', 'fred', 'gray', 'helen']\n",
    "prompt = \"\"\"\\nAdd a player to your team.\"\"\"\n",
    "prompt +=\"\\nEnter 'quit' when you're done.\"\n",
    "\n",
    "players = []\n",
    "while True:\n",
    "    player = input(prompt)\n",
    "    if player == 'quit':\n",
    "        break\n",
    "    elif player in banned_users:\n",
    "        print(player + \" is banned!\")\n",
    "        continue\n",
    "    else:\n",
    "        players.append(player)\n",
    "print(\"\\nYour team: \")\n",
    "for player in players:\n",
    "    print(player)"
   ]
  },
  {
   "cell_type": "markdown",
   "metadata": {},
   "source": [
    "# Avoiding infinite loops\n",
    "Every while loop needs a way to stop running so it won't continue to run forever. If there's no way for the condition to become False, the looop will never stop running."
   ]
  },
  {
   "cell_type": "code",
   "execution_count": null,
   "metadata": {},
   "outputs": [
    {
     "name": "stdout",
     "output_type": "stream",
     "text": [
      "\n",
      "Who are you? Atishay Kasliwal\n",
      "Nice to meet you, Atishay Kasliwal!\n",
      "\n",
      "Who are you? quit\n",
      "Nice to meet you, quit!\n"
     ]
    }
   ],
   "source": [
    "#an Infinite loop\n",
    "while True:\n",
    "    name = input(\"\\nWho are you? \")\n",
    "    print(\"Nice to meet you, \"+ name + \"!\")\n",
    "    "
   ]
  },
  {
   "cell_type": "code",
   "execution_count": 1,
   "metadata": {},
   "outputs": [
    {
     "name": "stdout",
     "output_type": "stream",
     "text": [
      "['dog', 'cat', 'dog', 'fish', 'cat', 'rabbit', 'cat']\n",
      "['dog', 'dog', 'fish', 'rabbit']\n"
     ]
    }
   ],
   "source": [
    "#Removing all intances of a value from a list\n",
    "pets = ['dog', 'cat','dog', 'fish', 'cat', 'rabbit', 'cat']\n",
    "print(pets)\n",
    "\n",
    "while 'cat' in pets:\n",
    "    pets.remove('cat')\n",
    "    \n",
    "print(pets)"
   ]
  },
  {
   "cell_type": "markdown",
   "metadata": {},
   "source": [
    "# Positional and keyword arguments\n",
    "The two main kinds of arguments are positional and keyword arguments. When you use positional arguments Python matches the first argument in the function call with the first parameter in the function definition, and so forth.\n",
    "With keyword argumetns, you specify which parameter each argument should be assigned to in the function can. When you use keyword aarguments, the order of the arguments doesn't matter."
   ]
  },
  {
   "cell_type": "code",
   "execution_count": 2,
   "metadata": {},
   "outputs": [
    {
     "name": "stdout",
     "output_type": "stream",
     "text": [
      "\n",
      "I have a hamster.\n",
      "Its name is harry.\n",
      "\n",
      "I have a dog.\n",
      "Its name is whillie.\n"
     ]
    }
   ],
   "source": [
    "#Using positional Arguments\n",
    "def describe_pet(animal, name):\n",
    "    \"\"\"Display information about a pet.\"\"\"\n",
    "    print(\"\\nI have a \" + animal + \".\")\n",
    "    print(\"Its name is \" + name + \".\")\n",
    "describe_pet('hamster', 'harry')\n",
    "describe_pet('dog' , 'whillie')"
   ]
  },
  {
   "cell_type": "code",
   "execution_count": 3,
   "metadata": {},
   "outputs": [
    {
     "name": "stdout",
     "output_type": "stream",
     "text": [
      "\n",
      "I have a hamster.\n",
      "Its name is harry.\n",
      "\n",
      "I have a dog.\n",
      "Its name is whillie.\n"
     ]
    }
   ],
   "source": [
    "#using keyword arguments\n",
    "def describe_pet(animal, name):\n",
    "    \"\"\"Display information about a pet.\"\"\"\n",
    "    print(\"\\nI have a \" + animal + \".\")\n",
    "    print(\"Its name is \" + name + \".\")\n",
    "describe_pet(animal='hamster', name= 'harry')\n",
    "describe_pet(animal = 'dog' ,name= 'whillie')"
   ]
  },
  {
   "cell_type": "markdown",
   "metadata": {},
   "source": [
    "# The range() function\n",
    "You can use the range() function to work with a set of numbers efficiently. The range() function starts at 0 by default, and stops one number below the number passed to it. You can use the list() function to efficently generate a large list of numbers."
   ]
  },
  {
   "cell_type": "code",
   "execution_count": 4,
   "metadata": {},
   "outputs": [
    {
     "name": "stdout",
     "output_type": "stream",
     "text": [
      "0\n",
      "1\n",
      "2\n",
      "3\n",
      "4\n",
      "5\n",
      "6\n",
      "7\n",
      "8\n",
      "9\n",
      "10\n",
      "1\n",
      "2\n",
      "3\n",
      "4\n",
      "5\n",
      "6\n",
      "7\n",
      "8\n",
      "9\n",
      "10\n"
     ]
    }
   ],
   "source": [
    "#printing the numbers 0 to 10\n",
    "for number in range(11):\n",
    "    print(number)\n",
    "#printing the numbers 1 to 10\n",
    "for number in range(1, 11):\n",
    "    print(number)"
   ]
  },
  {
   "cell_type": "markdown",
   "metadata": {},
   "source": [
    "# Return Values\n",
    "A function can return a value or a set of values. When a function returns a value, the calling line must provide a variable in which to store the return value. A function stops running when it reaches a return statement."
   ]
  },
  {
   "cell_type": "code",
   "execution_count": 5,
   "metadata": {},
   "outputs": [
    {
     "name": "stdout",
     "output_type": "stream",
     "text": [
      "Jimi Hendrix\n",
      "Jimi Hendrix\n",
      "{'first': 'jimi', 'last': 'hendrix', 'age': 27}\n",
      "{'first': 'atishay', 'last': 'kasliwal'}\n"
     ]
    }
   ],
   "source": [
    "#Returning a single value\n",
    "def get_full_name(first, last):\n",
    "    \"\"\"Returning a neatly  formatted full name.\"\"\"\n",
    "    full_name = first +  ' ' + last\n",
    "    return full_name.title()\n",
    "musician = get_full_name('jimi', 'hendrix')\n",
    "print(musician)\n",
    "\n",
    "#Returning a dictionary\n",
    "def build_person(first, last):\n",
    "    \"\"\"Returning a Dictionary of information about a person.\"\"\"\n",
    "    person = {'first': first, 'last': last}\n",
    "    return person\n",
    "musician = get_full_name('jimi', 'hendrix')\n",
    "print(musician)  \n",
    "\n",
    "#Returning a dictionary with optional values\n",
    "def build_person(first, last, age=None):\n",
    "    \"\"\"Returning a dict of information about a person.\"\"\"\n",
    "    person = {'first': first, 'last': last}\n",
    "    if age:\n",
    "        person['age'] = age\n",
    "    return person\n",
    "musician = build_person('jimi', 'hendrix', 27)\n",
    "print(musician)\n",
    "musician = build_person(\"atishay\", \"kasliwal\")\n",
    "print(musician)"
   ]
  },
  {
   "cell_type": "markdown",
   "metadata": {},
   "source": [
    "# Default Values\n",
    "You can provide a default value for a parameter. When function calls omit this argument the default value will be used. Parameters with default values must be listed after parameters without default values in the function's definition so positional arguments can still work correctly."
   ]
  },
  {
   "cell_type": "code",
   "execution_count": 6,
   "metadata": {},
   "outputs": [
    {
     "name": "stdout",
     "output_type": "stream",
     "text": [
      "\n",
      "I have a hamster.\n",
      "Its name is harry.\n",
      "\n",
      "I have a dog.\n",
      "Its name is willie.\n",
      "\n",
      "I have a hamster.\n",
      "its name is harry.\n",
      "\n",
      "I have a snake.\n",
      "its name is none.\n"
     ]
    }
   ],
   "source": [
    "#using a default value\n",
    "def describe_pet(name, animal='dog'):\n",
    "    \"\"\"Display information about a pet.\"\"\"\n",
    "    print(\"\\nI have a \" + animal + \".\")\n",
    "    print(\"Its name is \" + name + \".\")\n",
    "describe_pet('harry', 'hamster')\n",
    "describe_pet('willie')\n",
    "#Using none to make an argument optional\n",
    "def describe_pet(animal, name=\"none\"):\n",
    "    \"\"\"Display information about a pet.\"\"\"\n",
    "    print(\"\\nI have a \" + animal +\".\")\n",
    "    if name:\n",
    "        print(\"its name is \" + name +\".\")\n",
    "describe_pet('hamster', 'harry')\n",
    "describe_pet('snake')"
   ]
  },
  {
   "cell_type": "markdown",
   "metadata": {},
   "source": [
    "# LISTS\n",
    "What are list?:-\n",
    "A List stores a seires of items in a particular order.\n",
    "Lists allow you to store sets of information in one place, whether you have just a few items or millions of items. Lists are one of Python's most powerful features readily accessible to new programmers, and they tie togther many important concepts in programming."
   ]
  },
  {
   "cell_type": "markdown",
   "metadata": {},
   "source": [
    "# Defining a list\n",
    "Use  square brackets to define a list, and use commas to separate individual items in the lists. Use plural names for lists, to make your code easier to read."
   ]
  },
  {
   "cell_type": "code",
   "execution_count": 7,
   "metadata": {},
   "outputs": [],
   "source": [
    "bikes = ['trek','redline','giant']"
   ]
  },
  {
   "cell_type": "markdown",
   "metadata": {},
   "source": [
    "# Accessing elements\n",
    "Individual elements in a list are accessed according to their position, called the index. The index of the first element is 0, the index of the second element is 1, and so forth. Negative indices refer to items at the end of the list. To get a particular element, write the name of the list and then the index of the element in square brackets.\n"
   ]
  },
  {
   "cell_type": "code",
   "execution_count": 8,
   "metadata": {},
   "outputs": [
    {
     "name": "stdout",
     "output_type": "stream",
     "text": [
      "trek\n",
      "giant\n",
      "redline\n"
     ]
    }
   ],
   "source": [
    "#getting the first element\n",
    "first_bike = bikes[0]\n",
    "print(first_bike)\n",
    "#Getting the last element\n",
    "last_bike = bikes[-1]\n",
    "print(last_bike)\n",
    "#getting the second element\n",
    "Second_bike = bikes[1]\n",
    "print(Second_bike)"
   ]
  },
  {
   "cell_type": "code",
   "execution_count": 9,
   "metadata": {},
   "outputs": [
    {
     "name": "stdout",
     "output_type": "stream",
     "text": [
      "trek\n",
      "giant\n",
      "redline\n"
     ]
    }
   ],
   "source": [
    "#directly calling an element \n",
    "print(bikes[0])\n",
    "print(bikes[-1])\n",
    "print(bikes[1])"
   ]
  },
  {
   "cell_type": "markdown",
   "metadata": {},
   "source": [
    "# Modifying individual items\n",
    "Once you're defined a list, you can change individual elements in the list. You do this by referring to the index of the item you want to modify."
   ]
  },
  {
   "cell_type": "code",
   "execution_count": 10,
   "metadata": {},
   "outputs": [
    {
     "name": "stdout",
     "output_type": "stream",
     "text": [
      "['ronald', 'loader', 'giant']\n"
     ]
    }
   ],
   "source": [
    "bikes[0] = 'ronald'\n",
    "bikes[-2] = 'loader'\n",
    "print(bikes)"
   ]
  },
  {
   "cell_type": "markdown",
   "metadata": {},
   "source": [
    "# Adding elements\n",
    "You can add elements to the end of a list, or you can insert them wherever you like in a list."
   ]
  },
  {
   "cell_type": "code",
   "execution_count": 11,
   "metadata": {},
   "outputs": [],
   "source": [
    "#starting with an empty list.\n",
    "bikes=[]\n",
    "bikes.append('trek')\n",
    "bikes.append('redline')\n",
    "bikes.append('giant')"
   ]
  },
  {
   "cell_type": "code",
   "execution_count": 12,
   "metadata": {},
   "outputs": [
    {
     "data": {
      "text/plain": [
       "['trek', 'redline', 'giant']"
      ]
     },
     "execution_count": 12,
     "metadata": {},
     "output_type": "execute_result"
    }
   ],
   "source": [
    "bikes"
   ]
  },
  {
   "cell_type": "code",
   "execution_count": 13,
   "metadata": {},
   "outputs": [],
   "source": [
    "#adding an element to the end of the list.\n",
    "bikes.append('toyota')\n"
   ]
  },
  {
   "cell_type": "code",
   "execution_count": 14,
   "metadata": {},
   "outputs": [],
   "source": [
    "#inserting elements at a particular position\n",
    "bikes.insert(0, 'val')\n",
    "bikes.insert(3, 'bea')"
   ]
  },
  {
   "cell_type": "code",
   "execution_count": 15,
   "metadata": {},
   "outputs": [
    {
     "data": {
      "text/plain": [
       "['val', 'trek', 'redline', 'bea', 'giant', 'toyota']"
      ]
     },
     "execution_count": 15,
     "metadata": {},
     "output_type": "execute_result"
    }
   ],
   "source": [
    "bikes"
   ]
  },
  {
   "cell_type": "markdown",
   "metadata": {},
   "source": [
    "# Removing elements\n",
    "You can remove elements by their position in a list, or by the value of the item. If you remove an item by its value Python removes only the first item that has that value."
   ]
  },
  {
   "cell_type": "code",
   "execution_count": 16,
   "metadata": {},
   "outputs": [
    {
     "data": {
      "text/plain": [
       "['val', 'trek', 'redline', 'giant']"
      ]
     },
     "execution_count": 16,
     "metadata": {},
     "output_type": "execute_result"
    }
   ],
   "source": [
    "#Deleting an element by its position\n",
    "del bikes[-1]\n",
    "#Removing an item by its value\n",
    "bikes.remove('bea')\n",
    "bikes"
   ]
  },
  {
   "cell_type": "markdown",
   "metadata": {},
   "source": [
    "# Popping Elements\n",
    "If you want to work with an elements that you're removing from the list, you can \"pop\" the element. If you think of the list as a stack of items, pop() returns the last element in the list, but you can also pop elements from any position in the list."
   ]
  },
  {
   "cell_type": "code",
   "execution_count": 17,
   "metadata": {},
   "outputs": [
    {
     "name": "stdout",
     "output_type": "stream",
     "text": [
      "giant\n",
      "val\n"
     ]
    }
   ],
   "source": [
    "#pop the last item from a list\n",
    "most_recent_bike = bikes.pop()\n",
    "print(most_recent_bike)\n",
    "#pop the first item in a list\n",
    "first_bike = bikes.pop(0)\n",
    "print(first_bike)"
   ]
  },
  {
   "cell_type": "markdown",
   "metadata": {},
   "source": [
    "# List Length\n",
    "the len() function returns the number of items in a list."
   ]
  },
  {
   "cell_type": "code",
   "execution_count": 18,
   "metadata": {},
   "outputs": [
    {
     "name": "stdout",
     "output_type": "stream",
     "text": [
      "We have 2 bikes.\n"
     ]
    },
    {
     "data": {
      "text/plain": [
       "['trek', 'redline']"
      ]
     },
     "execution_count": 18,
     "metadata": {},
     "output_type": "execute_result"
    }
   ],
   "source": [
    "#find the lenght of a list.\n",
    "num_bikes = len(bikes)\n",
    "print(\"We have \" +str(num_bikes) + \" bikes.\")\n",
    "bikes"
   ]
  },
  {
   "cell_type": "markdown",
   "metadata": {},
   "source": [
    "# Sorting a List\n",
    "The Sort() method changes the order of a list permanently. The sorted() function returns a copy of the list, leaving the orignal list unchanged. You can sort the items in a list in \n",
    "alphabetical order, or reverse alphabetical order. You can also reverse the original order of the list. Keep in mind that lowercase and uppercase letters may affect the sort order."
   ]
  },
  {
   "cell_type": "code",
   "execution_count": 58,
   "metadata": {},
   "outputs": [
    {
     "name": "stdout",
     "output_type": "stream",
     "text": [
      "['redline', 'trek']\n",
      "['trek', 'redline']\n",
      "['redline', 'trek']\n",
      "['trek', 'redline']\n",
      "['redline', 'trek']\n"
     ]
    }
   ],
   "source": [
    "#sorting a list temporarily\n",
    "print(sorted(bikes))\n",
    "print(sorted(bikes, reverse = True))\n",
    "#Sorting a list permanently\n",
    "bikes.sort()\n",
    "print(bikes)\n",
    "#sorting a list permanently in reverse alphabetical order\n",
    "bikes.sort(reverse = True)\n",
    "print(bikes)\n",
    "#Reversing the order of a list\n",
    "bikes.reverse()\n",
    "print(bikes)"
   ]
  },
  {
   "cell_type": "markdown",
   "metadata": {},
   "source": [
    "# Slicing a List\n",
    "You can work with any set of elements from a list. A portion of a list is called a slice. To slice a list start with the index of the first item you want, then add a colon and the index after the last item you want. Leave off the first index to start at the beginning of the list, and leave off the last index to slice through the end of the list."
   ]
  },
  {
   "cell_type": "code",
   "execution_count": 20,
   "metadata": {},
   "outputs": [
    {
     "name": "stdout",
     "output_type": "stream",
     "text": [
      "['kia', 'abe', 'ada']\n",
      "['abe', 'ada', 'gus']\n",
      "['ada', 'gus', 'zoe']\n"
     ]
    }
   ],
   "source": [
    "#getting the first three items\n",
    "finishers= ['kia','abe','ada','gus','zoe']\n",
    "first_three = finishers[:3]\n",
    "print(first_three)\n",
    "#getting the middle three items\n",
    "middle_three = finishers[1:4]\n",
    "print(middle_three)\n",
    "#getting the last three items\n",
    "last_three = finishers[-3:]\n",
    "print(last_three)"
   ]
  },
  {
   "cell_type": "code",
   "execution_count": 21,
   "metadata": {},
   "outputs": [
    {
     "data": {
      "text/plain": [
       "['sam', 'bob']"
      ]
     },
     "execution_count": 21,
     "metadata": {},
     "output_type": "execute_result"
    }
   ],
   "source": [
    "finishers= ['sam','bob','ada','bea']\n",
    "first_two = finishers[:2]\n",
    "first_two"
   ]
  },
  {
   "cell_type": "markdown",
   "metadata": {},
   "source": [
    "# Copying a list\n",
    "To copy a list make a slice that stants at the first item and ends at the last item. If you try to copy a list without using this approch, whatever you do to the copied list will effect the orignal list as well."
   ]
  },
  {
   "cell_type": "code",
   "execution_count": 22,
   "metadata": {},
   "outputs": [
    {
     "name": "stdout",
     "output_type": "stream",
     "text": [
      "['kai', 'abe', 'ada', 'gus', 'zoe']\n",
      "['kai', 'abe', 'ada', 'gus', 'zoe']\n"
     ]
    }
   ],
   "source": [
    "#Making a copy of a list\n",
    "finishers = ['kai', 'abe', 'ada', 'gus', 'zoe']\n",
    "copy_of_finishers = finishers[:]\n",
    "print(finishers)\n",
    "print(copy_of_finishers)"
   ]
  },
  {
   "cell_type": "code",
   "execution_count": 23,
   "metadata": {},
   "outputs": [
    {
     "data": {
      "text/plain": [
       "['redline', 'trek']"
      ]
     },
     "execution_count": 23,
     "metadata": {},
     "output_type": "execute_result"
    }
   ],
   "source": [
    "copy_bikes = bikes[:]\n",
    "copy_bikes"
   ]
  },
  {
   "cell_type": "markdown",
   "metadata": {},
   "source": [
    "# Looping through a list.\n",
    "Lists can contain millions of items, so python provides an efficient way to loop throught all the items in a list. When you set up a loop. Python pulls each item from the list one ata time and stores it in a temporary variable, which you provide a name for. This name should be the singular version of the list name.\n",
    "The indented block of code makes up the body of the loop, where you can work with each individual item. Any ines that are not indented run after the loop is completed."
   ]
  },
  {
   "cell_type": "code",
   "execution_count": 24,
   "metadata": {},
   "outputs": [
    {
     "name": "stdout",
     "output_type": "stream",
     "text": [
      "redline\n",
      "trek\n"
     ]
    }
   ],
   "source": [
    "#printing all items in a list\n",
    "for bike in bikes:\n",
    "    print(bike)"
   ]
  },
  {
   "cell_type": "code",
   "execution_count": 25,
   "metadata": {},
   "outputs": [
    {
     "name": "stdout",
     "output_type": "stream",
     "text": [
      "Welcome, redline!\n",
      "Welcome, trek!\n",
      "Welcome, we're glad to see you all!\n"
     ]
    }
   ],
   "source": [
    "#printing a message for each item, and a separate message afterwards\n",
    "for bike in bikes:\n",
    "    print(\"Welcome, \"+ bike + \"!\")\n",
    "print(\"Welcome, we're glad to see you all!\")"
   ]
  },
  {
   "cell_type": "code",
   "execution_count": 26,
   "metadata": {},
   "outputs": [
    {
     "name": "stdout",
     "output_type": "stream",
     "text": [
      "[1, 4, 9, 16, 25, 36, 49, 64, 81, 100]\n"
     ]
    }
   ],
   "source": [
    "squares = [] #making numerical lists\n",
    "for x in range(1, 11):\n",
    "    squares.append(x**2)\n",
    "print(squares)"
   ]
  },
  {
   "cell_type": "markdown",
   "metadata": {},
   "source": [
    "# List Comprehensions\n",
    "you can use a loop to generate a list based on a range of umbers or on another list. This is a common operation, so Python offers a more efficient way to do it."
   ]
  },
  {
   "cell_type": "code",
   "execution_count": 27,
   "metadata": {},
   "outputs": [
    {
     "name": "stdout",
     "output_type": "stream",
     "text": [
      "['KAI', 'ABE', 'ADA', 'GUS', 'ZOE']\n"
     ]
    }
   ],
   "source": [
    "#Using a comprehension to generate a list of square numbers\n",
    "squares = [x**2 for x in range(1,11)] \n",
    "squares\n",
    "#Using a Comprehension to convert a list of names to upper case\n",
    "names= ['kai', 'abe', 'ada', 'gus', 'zoe']\n",
    "upper_names= [name.upper() for name in names]\n",
    "print(upper_names)"
   ]
  },
  {
   "cell_type": "markdown",
   "metadata": {},
   "source": [
    "# IF STATEMENTS\n",
    "used to test for particular conditions and respond appropriately"
   ]
  },
  {
   "cell_type": "code",
   "execution_count": 28,
   "metadata": {},
   "outputs": [
    {
     "data": {
      "text/plain": [
       "True"
      ]
     },
     "execution_count": 28,
     "metadata": {},
     "output_type": "execute_result"
    }
   ],
   "source": [
    "#Conditional TEST {currently x value is 100}\n",
    "x == 49 #equals\n",
    "x != 49 #not equals\n",
    "x > 42 #greater than\n",
    "x < 42 #less than\n",
    "x >= 42 #greater than or equal to\n",
    "x <= 42 #less than or equal to    "
   ]
  },
  {
   "cell_type": "code",
   "execution_count": 29,
   "metadata": {},
   "outputs": [
    {
     "data": {
      "text/plain": [
       "True"
      ]
     },
     "execution_count": 29,
     "metadata": {},
     "output_type": "execute_result"
    }
   ],
   "source": [
    "#conditional test with lists\n",
    "'trek' in bikes"
   ]
  },
  {
   "cell_type": "code",
   "execution_count": 30,
   "metadata": {},
   "outputs": [
    {
     "data": {
      "text/plain": [
       "False"
      ]
     },
     "execution_count": 30,
     "metadata": {},
     "output_type": "execute_result"
    }
   ],
   "source": [
    "\"surly\" in bikes"
   ]
  },
  {
   "cell_type": "code",
   "execution_count": 31,
   "metadata": {},
   "outputs": [],
   "source": [
    "#Assigning boolean values\n",
    "game_active = True\n",
    "can_edit = False"
   ]
  },
  {
   "cell_type": "code",
   "execution_count": 32,
   "metadata": {},
   "outputs": [
    {
     "data": {
      "text/plain": [
       "False"
      ]
     },
     "execution_count": 32,
     "metadata": {},
     "output_type": "execute_result"
    }
   ],
   "source": [
    "can_edit"
   ]
  },
  {
   "cell_type": "code",
   "execution_count": 33,
   "metadata": {},
   "outputs": [
    {
     "name": "stdout",
     "output_type": "stream",
     "text": [
      "next time\n"
     ]
    }
   ],
   "source": [
    "#A simple if Test\n",
    "age =10\n",
    "if age >=18:\n",
    "    print(\"you can vote!\")\n",
    "else:\n",
    "    print(\"next time\")"
   ]
  },
  {
   "cell_type": "code",
   "execution_count": 34,
   "metadata": {},
   "outputs": [
    {
     "name": "stdout",
     "output_type": "stream",
     "text": [
      "ticket_price =15\n"
     ]
    }
   ],
   "source": [
    "age = 1000\n",
    "if age < 4:\n",
    "    print(\"ticket_price = 0\")\n",
    "elif age <18:\n",
    "    print(\"ticket_price = 10\")\n",
    "else:\n",
    "    print(\"ticket_price =15\")"
   ]
  },
  {
   "cell_type": "markdown",
   "metadata": {},
   "source": [
    "# Dictionaries (dictionaries store connections between pieces of information. Each item in a dictionary is a key value pair)\n",
    "Python's dictionaries allow you to connect pieces of related information. Each piece of information in a dictionary is stored as a key-value pari. When you provide a key, Python returns the value associated with that hey. You can loop through all the keys-values pairs, all the keys, or all the values. For defining a dictionary we use curly braces and colons to connect keys and values with commas to separate the individual key-value pairs."
   ]
  },
  {
   "cell_type": "code",
   "execution_count": 36,
   "metadata": {},
   "outputs": [],
   "source": [
    "#Making a dictionary\n",
    "alien = {'color' : 'red', 'points' : '005'}"
   ]
  },
  {
   "cell_type": "code",
   "execution_count": 37,
   "metadata": {},
   "outputs": [
    {
     "name": "stdout",
     "output_type": "stream",
     "text": [
      "red\n",
      "005\n",
      "This alien's color is red\n",
      "red\n"
     ]
    }
   ],
   "source": [
    "#Accesing values\n",
    "print((alien['color']))\n",
    "print((alien['points']))\n",
    "print(\"This alien's color is \" + alien['color'])\n",
    "#getting the value with get()\n",
    "alien = {'color': 'red'}\n",
    "alien_color = alien.get('color')\n",
    "print(alien_color)"
   ]
  },
  {
   "cell_type": "code",
   "execution_count": 38,
   "metadata": {},
   "outputs": [
    {
     "name": "stdout",
     "output_type": "stream",
     "text": [
      "{'color': 'red', 'points': '005', 'x': 0, 'y': 25, 'speed': 1.5}\n",
      "{'color': 'green', 'points': 0}\n",
      "{'color': 'red', 'points': '005'}\n",
      "{'color': 'yellow', 'points': 100}\n",
      "{'color': 'red', 'points': '005'}\n",
      "{'color': 'red'}\n",
      "5\n"
     ]
    }
   ],
   "source": [
    "#Adding a new key-value pair\n",
    "alien = {'color' : 'red', 'points' : '005'}\n",
    "alien['x'] = 0\n",
    "alien['y'] = 25\n",
    "alien['speed'] = 1.5\n",
    "print(alien)\n",
    "#adding to an empty dictionary\n",
    "alien1={}\n",
    "alien1['color'] = 'green'\n",
    "alien1['points'] = 0\n",
    "print(alien1)\n",
    "#modifying values in a dictionary\n",
    "alien2 = {'color' : 'red', 'points' : '005'}\n",
    "print(alien2)\n",
    "alien2['color'] = 'yellow'\n",
    "alien2['points'] = 100\n",
    "print(alien2)\n",
    "#deleting a key-value pairs\n",
    "alien3 = {'color' : 'red', 'points' : '005'}\n",
    "print(alien3)\n",
    "del alien3['points']\n",
    "print(alien3)\n",
    "#finding a dictionary lenght\n",
    "num_responses =len(alien)\n",
    "print(num_responses)"
   ]
  },
  {
   "cell_type": "code",
   "execution_count": 39,
   "metadata": {},
   "outputs": [
    {
     "name": "stdout",
     "output_type": "stream",
     "text": [
      "eric loves 17\n",
      "ever loves 4\n"
     ]
    }
   ],
   "source": [
    "#looping through all key-value pairs\n",
    "fav_numbers = {'eric' : 17, 'ever' : 4}\n",
    "for name, number in fav_numbers.items():\n",
    "    print(name + ' loves '+ str(number))"
   ]
  },
  {
   "cell_type": "markdown",
   "metadata": {},
   "source": [
    "# Looping through a dictionary\n",
    "You can loop through a dictionary in three ways. You can loop through all the key-value pairs, all the keys or all the values.\n",
    "A dictionary only tracks the connections between keys and values; it dosen't track the order of items in the dictionary. If you want to process the information in order, you can sort the keys in your loops."
   ]
  },
  {
   "cell_type": "code",
   "execution_count": 40,
   "metadata": {},
   "outputs": [
    {
     "name": "stdout",
     "output_type": "stream",
     "text": [
      "17 is a favorite\n",
      "4 is a favorite\n"
     ]
    }
   ],
   "source": [
    "#looping through all the values\n",
    "fav_numbers = {'eric' : 17, 'ever': 4}\n",
    "for number in fav_numbers.values():\n",
    "    print(str(number) + ' is a favorite')"
   ]
  },
  {
   "cell_type": "code",
   "execution_count": 41,
   "metadata": {},
   "outputs": [
    {
     "name": "stdout",
     "output_type": "stream",
     "text": [
      "eric loves a number\n",
      "ever loves a number\n"
     ]
    }
   ],
   "source": [
    "#looping through all keys\n",
    "fav_numbers = {'eric' : 17, 'ever': 4}\n",
    "for name in fav_numbers.keys():\n",
    "    print(name + ' loves a number')"
   ]
  },
  {
   "cell_type": "code",
   "execution_count": 42,
   "metadata": {},
   "outputs": [
    {
     "name": "stdout",
     "output_type": "stream",
     "text": [
      "python\n",
      "c\n",
      "ruby\n",
      "python\n",
      "edward: python\n",
      "jen: python\n",
      "phil: python\n",
      "sarah: python\n"
     ]
    }
   ],
   "source": [
    "#looping through all the values\n",
    "fav_lang = {\n",
    "    'jen': 'python',\n",
    "    'sarah': 'c',\n",
    "    'edward': 'ruby',\n",
    "    'phil': 'python'\n",
    "}\n",
    "for lang in fav_lang.values():\n",
    "    print(lang)\n",
    "#looping through all the keys in order\n",
    "for name in sorted(fav_lang.keys()):\n",
    "    print(name +\": \"+ lang)"
   ]
  },
  {
   "cell_type": "markdown",
   "metadata": {},
   "source": [
    "# Nesting {A list of Dictionary}\n",
    "It's sometimes useful to store a set of dictionaries in a list, this is called nesting."
   ]
  },
  {
   "cell_type": "code",
   "execution_count": 43,
   "metadata": {},
   "outputs": [
    {
     "name": "stdout",
     "output_type": "stream",
     "text": [
      "last: fermi\n",
      "first: enrico\n",
      "username: efermi\n",
      "\n",
      "\n",
      "last: khalid\n",
      "first: location\n",
      "username: vibe\n",
      "\n",
      "\n",
      "last: fermi\n",
      "first: enrico\n",
      "username: efermi\n",
      "\n",
      "\n",
      "last: khalid\n",
      "first: location\n",
      "username: vibe\n",
      "\n",
      "\n"
     ]
    }
   ],
   "source": [
    "#storing dict in a list\n",
    "#start with an empty list\n",
    "users=[]\n",
    "#make a new user, and add them to the list.\n",
    "new_user= {\n",
    "    'last' : 'fermi',\n",
    "    'first': 'enrico',\n",
    "    'username': 'efermi',\n",
    "}\n",
    "users.append(new_user)\n",
    "#make another new user, and add them as well.\n",
    "new_user= {\n",
    "    'last' : 'khalid',\n",
    "    'first': 'location',\n",
    "    'username': 'vibe',\n",
    "}\n",
    "users.append(new_user)\n",
    "\n",
    "#show all information about each user.\n",
    "for user_dict in users:\n",
    "    for k, v in user_dict.items():\n",
    "        print(k + \": \" +v)\n",
    "    print(\"\\n\")\n",
    "\n",
    "#you can also define a list of dictionarie directly, without using append():\n",
    "#Define a list of users, where each user is represented by a dictionary.\n",
    "user=[\n",
    "    {\n",
    "        \n",
    "    'last' : 'fermi',\n",
    "    'first': 'enrico',\n",
    "    'username': 'efermi',\n",
    "\n",
    "    },\n",
    "    {\n",
    "     'last' : 'khalid',\n",
    "    'first': 'location',\n",
    "    'username': 'vibe',   \n",
    "    },\n",
    "    \n",
    "]\n",
    "#show all information about each user.\n",
    "for user_dict in users:\n",
    "    for k, v in user_dict.items():\n",
    "        print(k + \": \" +v)\n",
    "    print(\"\\n\")"
   ]
  },
  {
   "cell_type": "markdown",
   "metadata": {},
   "source": [
    "# Nesting {list in a Dictionary}\n",
    "Storing a list inside a dictionary allows you to associate more than one value with each key."
   ]
  },
  {
   "cell_type": "code",
   "execution_count": 44,
   "metadata": {},
   "outputs": [
    {
     "name": "stdout",
     "output_type": "stream",
     "text": [
      "jen: \n",
      "- python\n",
      "- ruby\n",
      "sarah: \n",
      "- c\n",
      "- c++\n",
      "edward: \n",
      "- ruby\n",
      "- php\n",
      "phil: \n",
      "- python\n",
      "- haskell\n"
     ]
    }
   ],
   "source": [
    "# store multiple lang for each person.\n",
    "fav_lang = {\n",
    "    'jen' :['python', 'ruby'],\n",
    "    'sarah' : ['c', 'c++'],\n",
    "    'edward' : ['ruby', 'php'],\n",
    "    'phil' : ['python', 'haskell'],\n",
    "}\n",
    "\n",
    "#Show all responses for each person.\n",
    "for name, langs in fav_lang.items():\n",
    "    print(name + \": \")\n",
    "    for lang in langs:\n",
    "        print(\"- \" + lang)"
   ]
  },
  {
   "cell_type": "markdown",
   "metadata": {},
   "source": [
    "# Nesting {A dictionary of dictionaries.}\n",
    "You can store a dictionary inside another dictionary, in this case each value associated with a key is itself a dictionary."
   ]
  },
  {
   "cell_type": "code",
   "execution_count": 45,
   "metadata": {},
   "outputs": [
    {
     "name": "stdout",
     "output_type": "stream",
     "text": [
      "\n",
      "Username: Aeinstein\n",
      "\tFull Name: Einstein Albert\n",
      "\tLocation: Princeton\n",
      "\n",
      "Username: Mcurie\n",
      "\tFull Name: Curie Marie\n",
      "\tLocation: Paris\n"
     ]
    }
   ],
   "source": [
    "users = {\n",
    "    'Aeinstein': {\n",
    "        'last' : 'albert',\n",
    "    'first': 'einstein',\n",
    "    'location': 'princeton',\n",
    "    },\n",
    "    'Mcurie' :{\n",
    "        'last' : 'marie',\n",
    "    'first': 'curie',\n",
    "    'location': 'paris',\n",
    "    },\n",
    "}\n",
    "\n",
    "for username, user_dict in users.items():\n",
    "    print(\"\\nUsername: \" + username)\n",
    "    full_name = user_dict['first'] + \" \"\n",
    "    full_name += user_dict['last']\n",
    "    location = user_dict['location']\n",
    "    \n",
    "    print(\"\\tFull Name: \"+ full_name.title())\n",
    "    print(\"\\tLocation: \"+ location.title())"
   ]
  },
  {
   "cell_type": "markdown",
   "metadata": {},
   "source": [
    "# Levels of nesting\n",
    "Nesting is extremely useful in certain situations. However, be aware of making your code overly complex. If you're nesting items much deeper that what you see here there are probably simpler ways of managing your data, such as using classes. "
   ]
  },
  {
   "cell_type": "markdown",
   "metadata": {},
   "source": [
    "# Using an OrderedDict\n",
    "Standard Python dictionaries don't keep track of the order in which keys and values are added they only preserve the association between each key and its value. If you want to preserve the order in which keys and values are added, use an OrderedDict."
   ]
  },
  {
   "cell_type": "code",
   "execution_count": 46,
   "metadata": {},
   "outputs": [
    {
     "name": "stdout",
     "output_type": "stream",
     "text": [
      "jen:\n",
      "- python\n",
      "- ruby\n",
      "sarah:\n",
      "- c\n",
      "- c++\n",
      "edward:\n",
      "- ruby\n",
      "- php\n",
      "phil:\n",
      "- python\n",
      "- haskell\n"
     ]
    }
   ],
   "source": [
    "from collections import OrderedDict\n",
    "\n",
    "#store each person's lang, keeping track of who responded first.\n",
    "fav_lang = OrderedDict()\n",
    "\n",
    "fav_lang['jen'] =['python', 'ruby']\n",
    "fav_lang['sarah'] = ['c', 'c++']\n",
    "fav_lang['edward'] = ['ruby', 'php']\n",
    "fav_lang['phil'] = ['python', 'haskell']\n",
    "\n",
    "#Display the results, in the same order they were entered .\n",
    "for name, langs in fav_lang.items():\n",
    "    print(name + \":\")\n",
    "    for lang in langs:\n",
    "        print(\"- \"+ lang)"
   ]
  },
  {
   "cell_type": "markdown",
   "metadata": {},
   "source": [
    "# Generating a million dictionaries\n",
    "You can use a loop to generate a large numbered dictionaries efficiently, if all the dictionaries start out with similar data."
   ]
  },
  {
   "cell_type": "code",
   "execution_count": 47,
   "metadata": {},
   "outputs": [
    {
     "name": "stdout",
     "output_type": "stream",
     "text": [
      "Number of aliens created: \n",
      "1000000\n"
     ]
    }
   ],
   "source": [
    "aliens=[]\n",
    "\n",
    "#make a million green aliens, worth 5 points each. Have them all start in one row.\n",
    "for alien_num in range(1000000):\n",
    "    new_alien= {}\n",
    "    new_alien['color'] = 'green'\n",
    "    new_alien['points'] = 5\n",
    "    new_alien['x'] = 20 * alien_num\n",
    "    new_alien['y'] = 0\n",
    "    aliens.append(new_alien)\n",
    "\n",
    "#Prove the list contains a million aliens.\n",
    "num_aliens= len(aliens)\n",
    "print(\"Number of aliens created: \")\n",
    "print(num_aliens)"
   ]
  },
  {
   "cell_type": "markdown",
   "metadata": {},
   "source": [
    "# What are classes?\n",
    "\n",
    "A Class defines the Behavior of an object and the kind of information an object can store. The information in a class is stored in attributes, and functions that belong to a class are called methods. A child class inherits the attributes and methods from its parent class.\n",
    "\n",
    "Classes are the foundation of Object Oriented Programming. Classes represent real-world things you want to model in your programs: for example dogs, cars, cats, and robots. You use a class to make objects, which are specific instances of dogs, cars, and, robots. A class defines the general behavior that a whole category of objects can have, and the information that can be associated with those objects. Classes can inherit from each other- you can write a class that extands the functionality of an existing class. This allows you to code efficiently for a wide variety of situations."
   ]
  },
  {
   "cell_type": "markdown",
   "metadata": {},
   "source": [
    "# Creating and using a class\n",
    "Consider how we might model a car. What information would we associate with a car, and behavior would it have? The information is stored in variables called attributes and the behavior is represented by functions. Functions that are part of a class are called methods."
   ]
  },
  {
   "cell_type": "code",
   "execution_count": 1,
   "metadata": {},
   "outputs": [],
   "source": [
    "#the car class\n",
    "class Car():\n",
    "    \"\"\"A simple attempt to model a car.\"\"\"\n",
    "    \n",
    "    def __init__(self, make, model, year):\n",
    "        \"\"\"Initialize car attributes.\"\"\"\n",
    "        self.make = make\n",
    "        self.model= model\n",
    "        self.year= year\n",
    "        #fuel capacity and level in gallons.\n",
    "        self.fuel_capacity = 15\n",
    "        self.fuel_level = 0\n",
    "    \n",
    "    def fill_tank(self):\n",
    "        \"\"\"Fill gas tank to capacity\"\"\"\n",
    "        self.fuel_level = self.fuel_capacity\n",
    "        print(\"Fuel tank is full.\")\n",
    "        \n",
    "    def drive(self):\n",
    "        \"\"\"Simulate driving\"\"\"\n",
    "        print(\"The car is moving\")"
   ]
  },
  {
   "cell_type": "code",
   "execution_count": 2,
   "metadata": {},
   "outputs": [
    {
     "name": "stdout",
     "output_type": "stream",
     "text": [
      "audi\n",
      "a4\n",
      "2016\n",
      "Fuel tank is full.\n",
      "The car is moving\n"
     ]
    }
   ],
   "source": [
    "#creating an object from a class\n",
    "my_car = Car('audi', 'a4', 2016)\n",
    "\n",
    "#Accessing attribute values\n",
    "print(my_car.make)\n",
    "print(my_car.model)\n",
    "print(my_car.year)\n",
    "\n",
    "#calling methods\n",
    "my_car.fill_tank()\n",
    "my_car.drive()\n",
    "\n",
    "#Creating multiple objects\n",
    "my_car = Car('audi', 'a4', 2016)\n",
    "my_old_car = Car('subaru', 'outback', 2013)\n",
    "my_truck = Car('toyota', 'tacoma', 2010)"
   ]
  },
  {
   "cell_type": "markdown",
   "metadata": {},
   "source": [
    "# Modifying attributes\n",
    "You can modify an attribute's value directly, or you can write methods that manage updating values more carefully."
   ]
  },
  {
   "cell_type": "code",
   "execution_count": 50,
   "metadata": {},
   "outputs": [],
   "source": [
    "#Modifying an attribute directly\n",
    "my_new_car = Car('audi', 'a4', 2016)\n",
    "my_new_car.fuel_level = 5\n",
    "\n",
    "#Writing a method to update an attribute's value\n",
    "def update_fuel_level(self, new_level):\n",
    "    \"\"\"Update the fuel level\"\"\"\n",
    "    if new_level<= self.fuel_capacity:\n",
    "        self.fuel_level = new_level\n",
    "    else:\n",
    "        print(\"The tank can't hold that much!\")\n",
    "        \n",
    "#Writing a method to increment an attribute's value\n",
    "def add_fuel(self, amount):\n",
    "    \"\"\"Add fuel to the tank.\"\"\"\n",
    "    if(self.fuel_level + amount <= self.fuel_capacity):\n",
    "        self.fuel_level += amount\n",
    "        print(\"added fuel.\")\n",
    "    else:\n",
    "        print(\"the tank won't hold that much\")"
   ]
  },
  {
   "cell_type": "markdown",
   "metadata": {},
   "source": [
    "# Naming Conventions\n",
    "In Python class names are written in CamelCase and object names are written in lowercase with underscores. Modules that contain classes should still be named in lowercase with underscores."
   ]
  },
  {
   "cell_type": "markdown",
   "metadata": {},
   "source": [
    "# Class Inheritance\n",
    "If the class you're writing is a specialized version of another class, you can use inheritance. When one class inherits from another, it automatically takes on all the attributes and methods of the parent class. The child class is free to introduce new attributes and methods, and override attributes and methods of the parent class.\n",
    "\n",
    "To inherit from another class include the name of the parent class in parentheses when defining the new class."
   ]
  },
  {
   "cell_type": "code",
   "execution_count": 51,
   "metadata": {},
   "outputs": [
    {
     "name": "stdout",
     "output_type": "stream",
     "text": [
      "The vehicle is fully charged.\n",
      "The car is moving\n"
     ]
    }
   ],
   "source": [
    "#The __init__() method for a child class\n",
    "class ElectricCar(Car):\n",
    "    \"\"\"A simple model of an electric car.\"\"\"\n",
    "    \n",
    "    def __init__(self,make,model,year):\n",
    "        \"\"\"Initialize an Electric car.\"\"\"\n",
    "        super().__init__(make, model, year)\n",
    "        \n",
    "        #Attributes specific to electric cars.\n",
    "        #Battery capacity in kWh.\n",
    "        self.battery_size = 70\n",
    "        #charge level in %\n",
    "        self.charge_level = 0\n",
    "        \n",
    "#Adding new methods to the child class\n",
    "class ElectricCar(Car):\n",
    "\n",
    "    def charge(self):\n",
    "        \"\"\"Fully charge the vehicle\"\"\"\n",
    "        self.charge_level= 100\n",
    "        print(\"The vehicle is fully charged.\")\n",
    "        \n",
    "#Using child methods and parent methods\n",
    "my_ecar = ElectricCar('tesla', 'model s', 2016)\n",
    "\n",
    "my_ecar.charge()\n",
    "my_ecar.drive()"
   ]
  },
  {
   "cell_type": "code",
   "execution_count": 52,
   "metadata": {},
   "outputs": [
    {
     "name": "stdout",
     "output_type": "stream",
     "text": [
      "PESO is a great dog!\n",
      "PESO is sitting.\n",
      "Willie is a search dog.\n",
      "Willie is sitting.\n",
      "Willie is searching.\n"
     ]
    }
   ],
   "source": [
    "#another example for class inheritance\n",
    "class Dog():\n",
    "    \"\"\"Represent a dog.\"\"\"\n",
    "    def __init__(self,name):\n",
    "        \"\"\"Initialize dog object.\"\"\"\n",
    "        self.name =name\n",
    "        \n",
    "    def sit(self):\n",
    "        \"\"\"Simulate sitting.\"\"\"\n",
    "        print(self.name + \" is sitting.\")\n",
    "my_dog =Dog('PESO')\n",
    "\n",
    "print(my_dog.name + \" is a great dog!\")\n",
    "my_dog.sit()\n",
    "\n",
    "class SARDog(Dog):\n",
    "    \"\"\"Represent a search dog.\"\"\"\n",
    "    def __init__(self, name):\n",
    "        \"\"\"Initialize the sardog.\"\"\"\n",
    "        super().__init__(name)\n",
    "        \n",
    "    def search(self):\n",
    "        \"\"\"Simulate searching.\"\"\"\n",
    "        print(self.name + \" is searching.\")\n",
    "        \n",
    "my_dog = SARDog('Willie')\n",
    "\n",
    "print(my_dog.name + \" is a search dog.\")\n",
    "my_dog.sit()\n",
    "my_dog.search()"
   ]
  },
  {
   "cell_type": "code",
   "execution_count": 53,
   "metadata": {},
   "outputs": [],
   "source": [
    "#Overriding parent methods:\n",
    "class ElectricCar(Car):\n",
    "    \n",
    "    def fill_tank(self):\n",
    "        \"\"\"Display an error message\"\"\"\n",
    "        print(\"This car has no fuel tank!\")"
   ]
  },
  {
   "cell_type": "markdown",
   "metadata": {},
   "source": [
    "# Instances as Attributes\n",
    "A class can have objects as attributes. This allows classes to work together to model complex situations."
   ]
  },
  {
   "cell_type": "code",
   "execution_count": 54,
   "metadata": {
    "scrolled": false
   },
   "outputs": [
    {
     "name": "stdout",
     "output_type": "stream",
     "text": [
      "the vehicle is fully charged\n",
      "240\n",
      "The car is moving\n"
     ]
    }
   ],
   "source": [
    "#A battery class\n",
    "\n",
    "class Battery():\n",
    "    \"\"\"A battery for an electric car.\"\"\"\n",
    "    def __init__(self, size=70):\n",
    "        \"\"\"Initialize battery attributes.\"\"\"\n",
    "        #Capacity in kwh, charge in %.\n",
    "        self.size= size\n",
    "        self.charge_level=0\n",
    "        \n",
    "    def get_range(self):\n",
    "        \"\"\"Return the battery's range.\"\"\"\n",
    "        if self.size == 70:\n",
    "            return 240\n",
    "        elif self.size == 85:\n",
    "            return 270\n",
    "\n",
    "#Using an instance as an attribute\n",
    "class ElectricCar(Car):\n",
    "    \n",
    "    def __init__(self, make, model, year):\n",
    "        \"\"\"Initialize an electric car.\"\"\"\n",
    "        super().__init__(make, model, year)\n",
    "        \n",
    "        #Attribute specific to electric cars.\n",
    "        self.battery = Battery()\n",
    "        \n",
    "    def charge(self):\n",
    "        \"\"\"Fully charge the vehicle\"\"\"\n",
    "        self.battery.charge_level = 100\n",
    "        print(\"the vehicle is fully charged\")\n",
    "        \n",
    "#Using the instance\n",
    "my_ecar = ElectricCar('tesla', 'model x', 2016)\n",
    "\n",
    "my_ecar.charge()\n",
    "print(my_ecar.battery.get_range())\n",
    "my_ecar.drive()\n",
    "        "
   ]
  },
  {
   "cell_type": "markdown",
   "metadata": {},
   "source": [
    "# Importing Classes\n",
    "Class files can get long as you add detailed information and functionality. To help keep your program files uncluttered, you can store your classes in modules and import the classes you need into your main program."
   ]
  },
  {
   "cell_type": "code",
   "execution_count": null,
   "metadata": {},
   "outputs": [],
   "source": [
    "#Storing classes in a file\n",
    "\"\"\"car.py\"\"\"\n",
    "\n",
    "\"\"\"Represent gas and electric cars.\"\"\"\n",
    "\n",
    "class Car():\n",
    "    \"\"\"A simple attempt to model a car.\"\"\"\n",
    "  \n",
    " \n",
    "class Battery():\n",
    "    \"\"\"A battery for an electric car.\"\"\"\n",
    "   \n",
    "    \n",
    "class ElectricCar(Car):\n",
    "    \"\"\"A simple model of an electric car.\"\"\"\n",
    "    \n",
    "#Importing individual classes from a module \n",
    "\"\"\"my_cars.py\"\"\"\n",
    "\n",
    "from car import Car, ElectricCar\n",
    "\n",
    "my_beetle = Car('volkswagen', 'beetle', 2016)\n",
    "my_beetle.fill_tank()\n",
    "my_beetle.drive()\n",
    "\n",
    "my_tesla = ElectricCar('tesla', 'model s', 2016)\n",
    "my_tesla.charge()\n",
    "my_tesla.drive()\n",
    "\n",
    "#Importing an entire module\n",
    "import car\n",
    "\n",
    "my_beetle = car.Car('volkswagen', 'beetle', 2016)\n",
    "my_beetle.fill_tank()\n",
    "my_beetle.drive()\n",
    "\n",
    "my_tesla = car.ElectricCar('tesla', 'model s', 2016)\n",
    "my_tesla.charge()\n",
    "my_tesla.drive()"
   ]
  },
  {
   "cell_type": "code",
   "execution_count": null,
   "metadata": {},
   "outputs": [],
   "source": [
    "#Classes in Python 2.7\n",
    "#Classes should inherit from object\n",
    "class ClassName(object):\n",
    "#The Car class in Python 2.7\n",
    "class Car(object):\n",
    "\n",
    "#Child class __init__() method is different\n",
    "class ChildClassName(ParentClass):\n",
    "    def __init__(self):\n",
    "        super(ClassName, self).__init__()\n",
    "\n",
    "#The ElectricCar class in Python 2.7\n",
    "class ElectricCar(Car):\n",
    "    def __init__(self, make, model, year):\n",
    "        super(ElectricCar, self).__init__(make, model, year)"
   ]
  },
  {
   "cell_type": "markdown",
   "metadata": {},
   "source": [
    "# Storing objects in a list\n",
    "A list can hold as many items as you want, so you can make a large number of objects from a class and store them in a list. Here's an example showing how to make a fleet of rental cars, and make sure all the cars are ready to drive."
   ]
  },
  {
   "cell_type": "code",
   "execution_count": null,
   "metadata": {},
   "outputs": [],
   "source": [
    "#A fleet of rental cars\n",
    "from car import Car, ElectricCar\n",
    "#Make lists to hold a fleet of cars.\n",
    "gas_fleet=[]\n",
    "electric_fleet=[]\n",
    "\n",
    "#make 500 gas cars and 250 electric cars.\n",
    "for _ in range(500):\n",
    "    car =Car('ford', 'focus',2016)\n",
    "    gas_fleet.append(car)\n",
    "for _ in range(250):\n",
    "    ecar = ElectricCar('nissan', 'leaf', 2016)\n",
    "    electric_fleet.append(ecar)\n",
    "    \n",
    "#Fill the gas cars, and charge electric cars.\n",
    "for car in gas_fleet:\n",
    "    car.fill_tank()\n",
    "for ecar in electric_fleet:\n",
    "    ecar.charge()\n",
    "    \n",
    "print(\"Gas cars:\", len(gas_fleet))\n",
    "print(\"Electric cars:\", len(electric_fleet))"
   ]
  },
  {
   "cell_type": "markdown",
   "metadata": {},
   "source": [
    "# Files and Exceptions\n",
    "What are files? What are exceptions?:- Your programs can read information in form files, and they can write data files. Reading from files allows you to work with a wide variety of information; writing to files allows users to pick up where they left off the next time they run your prgram. You can write text to files, and you can store Python structures such as lists in data files."
   ]
  },
  {
   "cell_type": "markdown",
   "metadata": {},
   "source": [
    "# Working with files\n",
    "Your programs can read from files and write to files. Files are opened in read mode ('r') by default, but can also be opened in write mode('w') and append mode('a')"
   ]
  },
  {
   "cell_type": "code",
   "execution_count": 59,
   "metadata": {},
   "outputs": [
    {
     "name": "stdout",
     "output_type": "stream",
     "text": [
      "Writing into a txt file\n",
      "\n",
      "Creating a updated txt file\n"
     ]
    }
   ],
   "source": [
    "#Reading a file and storing its lines\n",
    "\n",
    "filename = 'demo.txt'\n",
    "with open(filename) as file_object:\n",
    "    lines = file_object.readlines()\n",
    "    \n",
    "for line in lines:\n",
    "    print(line)"
   ]
  },
  {
   "cell_type": "code",
   "execution_count": 60,
   "metadata": {},
   "outputs": [
    {
     "name": "stdout",
     "output_type": "stream",
     "text": [
      "Writing into a txt file\n"
     ]
    }
   ],
   "source": [
    "#writing to a file\n",
    "filename = 'demo.txt'\n",
    "with open(filename,'w') as file_object:\n",
    "    file_object.write(\"Writing into a txt file\")\n",
    "    \n",
    "filename = 'demo.txt'\n",
    "with open(filename) as file_object:\n",
    "    lines = file_object.readlines()\n",
    "    \n",
    "for line in lines:\n",
    "    print(line)\n",
    "    \n",
    "    "
   ]
  },
  {
   "cell_type": "code",
   "execution_count": 61,
   "metadata": {},
   "outputs": [
    {
     "name": "stdout",
     "output_type": "stream",
     "text": [
      "Writing into a txt file\n",
      "\n",
      "Creating a updated txt file\n"
     ]
    }
   ],
   "source": [
    "#Appending to a file\n",
    "filename = \"demo.txt\"\n",
    "with open(filename, 'a') as file_object:\n",
    "    file_object.write(\"\\nCreating a updated txt file\")\n",
    "\n",
    "filename = 'demo.txt'\n",
    "with open(filename) as file_object:\n",
    "    lines = file_object.readlines()\n",
    "    \n",
    "for line in lines:\n",
    "    print(line)\n",
    "    "
   ]
  },
  {
   "cell_type": "markdown",
   "metadata": {},
   "source": [
    "# Exceptions\n",
    "Exceptions are special objects that help your programs respond to errors in appropriate ways. For example if your program tries to open a file that doesn't exist, you can use exceptions to display an informative error message instead of having the program crash.\n",
    "Exceptions helps you respond appropriately to errors that are likely to occur. You place code that might cause an error in the try block. Code that should run in response to an error goes in the except block. Code that should run only if the try block was successful goes in the else block.\n"
   ]
  },
  {
   "cell_type": "code",
   "execution_count": 1,
   "metadata": {},
   "outputs": [
    {
     "name": "stdout",
     "output_type": "stream",
     "text": [
      "How many tickets do you need? 10\n",
      "Your tickets are printing.\n"
     ]
    }
   ],
   "source": [
    "#Catching an exception\n",
    "prompt = \"How many tickets do you need? \"\n",
    "num_tickets = input(prompt)\n",
    "\n",
    "try:\n",
    "    num_tickets = int(num_tickets)\n",
    "except ValueError:\n",
    "    print(\"Please try again.\")\n",
    "else:\n",
    "    print(\"Your tickets are printing.\")"
   ]
  },
  {
   "cell_type": "markdown",
   "metadata": {},
   "source": [
    "# File Paths\n",
    "When Python runs the open() function, it looks for the file in the same directory where the program that's being excuted in stored. You can open a file from a subfolder using a relative path. You can also use an absolute path to open any file on your system."
   ]
  },
  {
   "cell_type": "code",
   "execution_count": 2,
   "metadata": {},
   "outputs": [
    {
     "name": "stdout",
     "output_type": "stream",
     "text": [
      "okay\n",
      "let's\n",
      "see\n",
      "what\n",
      "we\n",
      "can\n",
      "do\n",
      "with\n",
      "this\n",
      "function/attribute.\n"
     ]
    }
   ],
   "source": [
    "# opening a file from a subfolder\n",
    "f_path =\"Documents/alice.txt\"\n",
    "with open(f_path) as f_obj:\n",
    "    lines = f_obj.readlines()\n",
    "    \n",
    "for line in lines:\n",
    "    print(line.rstrip())"
   ]
  },
  {
   "cell_type": "markdown",
   "metadata": {},
   "source": [
    "# The try-except block\n",
    "When you think an error may occur. You can write a try-except block to handle the exception that might be raised. The try block tells Python to try running some code, and the except block tells Python what to do if the code results in a particular kind of error."
   ]
  },
  {
   "cell_type": "code",
   "execution_count": 3,
   "metadata": {},
   "outputs": [
    {
     "name": "stdout",
     "output_type": "stream",
     "text": [
      "You can't divide by zero!\n"
     ]
    }
   ],
   "source": [
    "#handling the ZeroDivisionError exception\n",
    "try:\n",
    "    print(10/0)\n",
    "except ZeroDivisionError:\n",
    "    print(\"You can't divide by zero!\")\n",
    "    "
   ]
  },
  {
   "cell_type": "code",
   "execution_count": 4,
   "metadata": {},
   "outputs": [
    {
     "name": "stdout",
     "output_type": "stream",
     "text": [
      "Can't find file Atishay.txt.\n"
     ]
    }
   ],
   "source": [
    "#handling the fileNotFoundError exception\n",
    "f_name = 'Atishay.txt'\n",
    "\n",
    "try: \n",
    "    with open(f_name) as f_obj:\n",
    "        lines = f_obj.readlines()\n",
    "except FileNotFoundError:\n",
    "    msg = \"Can't find file {0}.\".format(f_name)\n",
    "    print(msg)"
   ]
  },
  {
   "cell_type": "markdown",
   "metadata": {},
   "source": [
    "# the else block\n",
    "The try block should only contain code that may cause an error. Any code that depands on the try block running successfully should be placed in the else block"
   ]
  },
  {
   "cell_type": "code",
   "execution_count": 5,
   "metadata": {},
   "outputs": [
    {
     "name": "stdout",
     "output_type": "stream",
     "text": [
      "Enter two numbers. i'll divide them.\n",
      "First Number: 10\n",
      "Second Number: 30\n",
      "0.3333333333333333\n",
      "Enter two numbers. I'll divide them.\n",
      "Enter 'q' to quit\n",
      "\n",
      "First number: q\n"
     ]
    }
   ],
   "source": [
    "print(\"Enter two numbers. i'll divide them.\")\n",
    "\n",
    "x=input(\"First Number: \")\n",
    "y= input(\"Second Number: \")\n",
    "\n",
    "try:\n",
    "    result = int(x)/ int(y)\n",
    "except ZeroDivisionError:\n",
    "    print(\"You can't divide by zero!\")\n",
    "else:\n",
    "    print(result)\n",
    "\n",
    "#Preventing crashes from user input\n",
    "\"\"\"Without the except block in the following example, the program would crash if the user tries to divide by zero. As written, it will handle the error gracefully and keep running\"\"\"\n",
    "#a simple calculator for division only.\n",
    "print(\"Enter two numbers. I'll divide them.\")\n",
    "print(\"Enter 'q' to quit\")\n",
    "\n",
    "while True:\n",
    "    x=input(\"\\nFirst number: \")\n",
    "    if x == 'q':\n",
    "        break\n",
    "    y =input(\"\\nSecond number: \")\n",
    "    if y =='q':\n",
    "        break\n",
    "    try:\n",
    "        result= int(x)/int(y)\n",
    "    except ZeroDivisionError:\n",
    "        print(\"You can't divide by zero!\")\n",
    "else:\n",
    "    print(result)"
   ]
  },
  {
   "cell_type": "markdown",
   "metadata": {},
   "source": [
    "# Falling silently\n",
    "Sometimes you went your program to just continue running when it encounters an error, without reporting the error to the user. Using the pass statement in an else block allows you to do this."
   ]
  },
  {
   "cell_type": "code",
   "execution_count": 6,
   "metadata": {},
   "outputs": [
    {
     "name": "stdout",
     "output_type": "stream",
     "text": [
      "demo.txt has 2 lines.\n",
      "untitled.txt has 0 lines.\n"
     ]
    }
   ],
   "source": [
    "#Using the pass statement in an else block:\n",
    "f_names = ['demo.txt', 'untitled.txt','little_women.txt']\n",
    "\n",
    "for f_name in f_names:\n",
    "    #report the length of each file found.\n",
    "    try:\n",
    "        with open(f_name) as f_obj:\n",
    "            lines = f_obj.readlines()\n",
    "    except FileNotFoundError:\n",
    "        #just move on to the next file.\n",
    "        pass\n",
    "    else:\n",
    "        num_lines = len(lines)\n",
    "        msg = \"{0} has {1} lines.\".format(f_name, num_lines)\n",
    "        print(msg)\n",
    "        "
   ]
  },
  {
   "cell_type": "markdown",
   "metadata": {},
   "source": [
    "# Avoid bare except blocks\n",
    "Exception handling code should catch specific exceptions that you expect to happen during your program's execution. A bare except block will catch all exceptions, including keyboard interrupts and system exits you might need when forcing a program to close.\n",
    "\n",
    "If you want to use a try block and you're not sure which exception to catch, use Exception. It will catch most exceptions, but still allow you to interrupt programs intentionally."
   ]
  },
  {
   "cell_type": "code",
   "execution_count": null,
   "metadata": {},
   "outputs": [],
   "source": [
    "#Dont use bare except blocks\n",
    "try:\n",
    "    #do something\n",
    "    \n",
    "except:\n",
    "    pass\n",
    "#Use Exception instead\n",
    "try:\n",
    "    #do something\n",
    "    \n",
    "except:\n",
    "    pass\n",
    "#printing the exception\n",
    "try:\n",
    "    #do something\n",
    "    \n",
    "except Exception as e:\n",
    "    print(e, type(e))"
   ]
  },
  {
   "cell_type": "markdown",
   "metadata": {},
   "source": [
    "# Storing data with JSON\n",
    "The json Module allows you to dump simple Python data structures into a file, and load the data from that file the next time the program runs."
   ]
  },
  {
   "cell_type": "code",
   "execution_count": 8,
   "metadata": {},
   "outputs": [
    {
     "name": "stdout",
     "output_type": "stream",
     "text": [
      "[2, 3, 5, 7, 11, 13]\n"
     ]
    }
   ],
   "source": [
    "#Using json.dump() to store data\n",
    "\"\"\"Store some numbers\"\"\"\n",
    "import json\n",
    "numbers = [2,3,5,7,11,13]\n",
    "\n",
    "filename= 'numbers.json'\n",
    "with open(filename, 'w') as f_obj:\n",
    "    json.dump(numbers, f_obj)\n",
    "\n",
    "#Using json.load() to read data\n",
    "\"\"\"Load some previously stored numbers\"\"\"\n",
    "import json\n",
    "\n",
    "filename='numbers.json'\n",
    "with open(filename) as f_obj:\n",
    "    numbers = json.load(f_obj)\n",
    "print(numbers)"
   ]
  },
  {
   "cell_type": "code",
   "execution_count": 9,
   "metadata": {},
   "outputs": [
    {
     "name": "stdout",
     "output_type": "stream",
     "text": [
      "[2, 3, 5, 7, 11, 13]\n"
     ]
    }
   ],
   "source": [
    "#making sure the stored data exists\n",
    "import json\n",
    "f_name = 'numbers.json'\n",
    "try:\n",
    "    with open(filename) as f_obj:\n",
    "        numbers = json.load(f_obj)\n",
    "except FileNotFoundError:\n",
    "    msg = \"Can't find {0}.\".format(f_name)\n",
    "    print(msg)\n",
    "else:\n",
    "    print(numbers)\n",
    "    "
   ]
  },
  {
   "cell_type": "markdown",
   "metadata": {},
   "source": [
    "# Simple Statistics\n",
    "There are a number of simple statistics you can run on a list containing numerical data."
   ]
  },
  {
   "cell_type": "code",
   "execution_count": 10,
   "metadata": {},
   "outputs": [
    {
     "name": "stdout",
     "output_type": "stream",
     "text": [
      "1\n"
     ]
    }
   ],
   "source": [
    "#Finding the minimum value in a list\n",
    "ages= [93, 99, 66, 17, 85, 1, 35, 82, 2, 77]\n",
    "youngest = min(ages)\n",
    "print(youngest)"
   ]
  },
  {
   "cell_type": "code",
   "execution_count": 11,
   "metadata": {},
   "outputs": [
    {
     "name": "stdout",
     "output_type": "stream",
     "text": [
      "99\n"
     ]
    }
   ],
   "source": [
    "#Finding the maximum value in a list\n",
    "ages= [93, 99, 66, 17, 85, 1, 35, 82, 2, 77]\n",
    "oldest = max(ages)\n",
    "print(oldest)"
   ]
  },
  {
   "cell_type": "code",
   "execution_count": 12,
   "metadata": {},
   "outputs": [
    {
     "name": "stdout",
     "output_type": "stream",
     "text": [
      "557\n"
     ]
    }
   ],
   "source": [
    "#finding the sum of all values\n",
    "ages= [93, 99, 66, 17, 85, 1, 35, 82, 2, 77]\n",
    "total_year = sum(ages)\n",
    "print(total_year)"
   ]
  },
  {
   "cell_type": "markdown",
   "metadata": {},
   "source": [
    "# Tuples\n",
    "A tuple is like a list, except you can't change the value in a tuple once it's defined. Tuples are good for storing information that shouldn'y be changed thourghout the life of a program. Tuples are designated by parentheses instead of square brackets.(You can overwrite an entire tuple, but you can't change the individual elements in a tuple.)"
   ]
  },
  {
   "cell_type": "code",
   "execution_count": 13,
   "metadata": {},
   "outputs": [
    {
     "name": "stdout",
     "output_type": "stream",
     "text": [
      "800\n",
      "600\n",
      "(800, 600)\n",
      "(1200, 900)\n"
     ]
    }
   ],
   "source": [
    "#defining a tuple\n",
    "dimensions = (800, 600)\n",
    "#looping through a tuple\n",
    "for dimension in dimensions:\n",
    "    print(dimension)\n",
    "#overwriting a tuple\n",
    "dimensions = (800, 600)\n",
    "print(dimensions)\n",
    "dimensions = (1200, 900)\n",
    "print(dimensions)"
   ]
  },
  {
   "cell_type": "markdown",
   "metadata": {},
   "source": [
    "# Matplotlib\n",
    "Data Visualization invloves exploring data through visual respresentations. The matplotlib package helps you make visually appealing representations of the data you're working with. Matplotlib is extremely flexible: these examples will help you get started with a few simple visualizations."
   ]
  },
  {
   "cell_type": "code",
   "execution_count": 14,
   "metadata": {},
   "outputs": [
    {
     "name": "stdout",
     "output_type": "stream",
     "text": [
      "Requirement already satisfied: matplotlib in c:\\users\\vc_19\\anaconda3\\lib\\site-packages (3.1.3)\n",
      "Requirement already satisfied: kiwisolver>=1.0.1 in c:\\users\\vc_19\\anaconda3\\lib\\site-packages (from matplotlib) (1.1.0)\n",
      "Requirement already satisfied: cycler>=0.10 in c:\\users\\vc_19\\anaconda3\\lib\\site-packages (from matplotlib) (0.10.0)\n",
      "Requirement already satisfied: pyparsing!=2.0.4,!=2.1.2,!=2.1.6,>=2.0.1 in c:\\users\\vc_19\\anaconda3\\lib\\site-packages (from matplotlib) (2.4.6)\n",
      "Requirement already satisfied: python-dateutil>=2.1 in c:\\users\\vc_19\\anaconda3\\lib\\site-packages (from matplotlib) (2.8.1)\n",
      "Requirement already satisfied: numpy>=1.11 in c:\\users\\vc_19\\anaconda3\\lib\\site-packages (from matplotlib) (1.18.1)\n",
      "Requirement already satisfied: setuptools in c:\\users\\vc_19\\anaconda3\\lib\\site-packages (from kiwisolver>=1.0.1->matplotlib) (45.2.0.post20200210)\n",
      "Requirement already satisfied: six in c:\\users\\vc_19\\anaconda3\\lib\\site-packages (from cycler>=0.10->matplotlib) (1.14.0)\n",
      "Note: you may need to restart the kernel to use updated packages.\n"
     ]
    }
   ],
   "source": [
    "pip install --user matplotlib"
   ]
  },
  {
   "cell_type": "code",
   "execution_count": 15,
   "metadata": {},
   "outputs": [
    {
     "data": {
      "image/png": "[encoded data removed]",
      "text/plain": [
       "<Figure size 432x288 with 1 Axes>"
      ]
     },
     "metadata": {
      "needs_background": "light"
     },
     "output_type": "display_data"
    }
   ],
   "source": [
    "#Line graphs and scatter plots\n",
    "#making a line graph\n",
    "import matplotlib.pyplot as plt\n",
    "\n",
    "x_values = [0, 1, 2, 3, 4, 5]\n",
    "squares =  [0, 1, 4, 9, 16, 25]\n",
    "plt.plot(x_values, squares)\n",
    "plt.show()"
   ]
  },
  {
   "cell_type": "markdown",
   "metadata": {},
   "source": [
    "# Making a scatter plot\n",
    "The scatter() function takes a list of x values and a list of y values, and a variety of optional arguments. The s=10 argument controls the size of each point."
   ]
  },
  {
   "cell_type": "code",
   "execution_count": 16,
   "metadata": {},
   "outputs": [
    {
     "data": {
      "image/png": "[encoded data removed]",
      "text/plain": [
       "<Figure size 432x288 with 1 Axes>"
      ]
     },
     "metadata": {
      "needs_background": "light"
     },
     "output_type": "display_data"
    }
   ],
   "source": [
    "import matplotlib.pyplot as plt\n",
    "x_values = list(range(1000))\n",
    "squares = [x**2 for x in x_values]\n",
    "\n",
    "plt.scatter(x_values, squares, s=10)\n",
    "plt.show()"
   ]
  },
  {
   "cell_type": "markdown",
   "metadata": {},
   "source": [
    "# Customizing plots\n",
    "Plots can be customized in a wide variety of ways. Just about any elements of a plot can be customized."
   ]
  },
  {
   "cell_type": "code",
   "execution_count": 17,
   "metadata": {},
   "outputs": [
    {
     "data": {
      "image/png": "[encoded data removed]",
      "text/plain": [
       "<Figure size 432x288 with 1 Axes>"
      ]
     },
     "metadata": {
      "needs_background": "light"
     },
     "output_type": "display_data"
    }
   ],
   "source": [
    "#adding titles and labels, and scaling axes\n",
    "import matplotlib.pyplot as plt\n",
    "x_values = list(range(1000))\n",
    "squares = [x**2 for x in x_values]\n",
    "plt.scatter(x_values, squares, s=10)\n",
    "\n",
    "plt.title(\"Square Numbers\", fontsize=15)\n",
    "plt.xlabel(\"value\", fontsize=12)\n",
    "plt.ylabel(\"Square of values\", fontsize=12)\n",
    "plt.tick_params(axis='both', which='major', labelsize=14)\n",
    "plt.axis([0,1100,0,1100000])\n",
    "plt.show()"
   ]
  },
  {
   "cell_type": "code",
   "execution_count": 18,
   "metadata": {},
   "outputs": [
    {
     "data": {
      "text/plain": [
       "<matplotlib.collections.PathCollection at 0x2c6d76efe08>"
      ]
     },
     "execution_count": 18,
     "metadata": {},
     "output_type": "execute_result"
    },
    {
     "data": {
      "image/png": "[encoded data removed]",
      "text/plain": [
       "<Figure size 432x288 with 1 Axes>"
      ]
     },
     "metadata": {
      "needs_background": "light"
     },
     "output_type": "display_data"
    }
   ],
   "source": [
    "#Using a colormap\n",
    "plt.scatter(x_values, squares, c=squares, cmap=plt.cm.Blues, edgecolor='none', s=10)"
   ]
  },
  {
   "cell_type": "markdown",
   "metadata": {},
   "source": [
    "# Emphasizing points\n",
    "You can plot as much data as you want on one plot. Here we replot the first and last points larger to emphasize them."
   ]
  },
  {
   "cell_type": "code",
   "execution_count": 19,
   "metadata": {},
   "outputs": [
    {
     "data": {
      "text/plain": [
       "<matplotlib.collections.PathCollection at 0x2c6d7772f08>"
      ]
     },
     "execution_count": 19,
     "metadata": {},
     "output_type": "execute_result"
    },
    {
     "data": {
      "image/png": "[encoded data removed]",
      "text/plain": [
       "<Figure size 432x288 with 1 Axes>"
      ]
     },
     "metadata": {
      "needs_background": "light"
     },
     "output_type": "display_data"
    }
   ],
   "source": [
    "import matplotlib.pyplot as plt\n",
    "x_values = list(range(1000))\n",
    "squares = [x**2 for x in x_values]\n",
    "plt.scatter(x_values, squares, c=squares, cmap=plt.cm.Blues, edgecolor = 'none', s=10)\n",
    "plt.scatter(x_values[0], squares[0], c='green', edgecolor = 'none', s=100)\n",
    "plt.scatter(x_values[-1], squares[-1], c='red', edgecolor = 'none', s=100)"
   ]
  },
  {
   "cell_type": "code",
   "execution_count": 20,
   "metadata": {},
   "outputs": [
    {
     "name": "stderr",
     "output_type": "stream",
     "text": [
      "C:\\Users\\vc_19\\anaconda3\\lib\\site-packages\\ipykernel_launcher.py:4: MatplotlibDeprecationWarning: Adding an axes using the same arguments as a previous axes currently reuses the earlier instance.  In a future version, a new instance will always be created and returned.  Meanwhile, this warning can be suppressed, and the future behavior ensured, by passing a unique label to each axes instance.\n",
      "  after removing the cwd from sys.path.\n"
     ]
    },
    {
     "data": {
      "image/png": "[encoded data removed]",
      "text/plain": [
       "<Figure size 432x288 with 1 Axes>"
      ]
     },
     "metadata": {
      "needs_background": "light"
     },
     "output_type": "display_data"
    }
   ],
   "source": [
    "#Removing Axis\n",
    "#You can customize or remove axes entirely. Here's how to access each axis, and hide it.\n",
    "plt.axes(). get_xaxis().set_visible(False)\n",
    "plt.axes().get_yaxis().set_visible(False)"
   ]
  },
  {
   "cell_type": "markdown",
   "metadata": {},
   "source": [
    "# Setting a custom figure size\n",
    "You can make your plot as big or small as you want. Before plotting your data, add the following code. The dpi argument is optional; if you don't know your system's resolution you can omit the argument and adjust the figsize argument accordingly. "
   ]
  },
  {
   "cell_type": "code",
   "execution_count": 21,
   "metadata": {},
   "outputs": [
    {
     "data": {
      "text/plain": [
       "<Figure size 1280x768 with 0 Axes>"
      ]
     },
     "execution_count": 21,
     "metadata": {},
     "output_type": "execute_result"
    },
    {
     "data": {
      "text/plain": [
       "<Figure size 1280x768 with 0 Axes>"
      ]
     },
     "metadata": {},
     "output_type": "display_data"
    }
   ],
   "source": [
    "plt.figure(dpi=128,figsize=(10,6))"
   ]
  },
  {
   "cell_type": "markdown",
   "metadata": {},
   "source": [
    "# Saving a Plot\n",
    "The matplotlib viewer has an interactive save button, but you can also save your visualizations programmatically. To do so, replace plt.show() with plt.savefig(). The bbox_inches = 'tight' argument trims extra whitespace from the plot."
   ]
  },
  {
   "cell_type": "code",
   "execution_count": 22,
   "metadata": {},
   "outputs": [
    {
     "data": {
      "text/plain": [
       "<Figure size 432x288 with 0 Axes>"
      ]
     },
     "metadata": {},
     "output_type": "display_data"
    }
   ],
   "source": [
    "plt.savefig('squares.png', bbox_inches='tight')"
   ]
  },
  {
   "cell_type": "markdown",
   "metadata": {},
   "source": [
    "# Multiple Plots\n",
    "You can make as many plots as you want on one figure. When you make multiple plots. You can emphasize relationships in the date, For example you can fill the space between two sets of data."
   ]
  },
  {
   "cell_type": "code",
   "execution_count": 23,
   "metadata": {},
   "outputs": [
    {
     "data": {
      "image/png": "[encoded data removed]",
      "text/plain": [
       "<Figure size 432x288 with 1 Axes>"
      ]
     },
     "metadata": {
      "needs_background": "light"
     },
     "output_type": "display_data"
    }
   ],
   "source": [
    "#Plotting two sets of data\n",
    "#Here we use plt.scatter() twice to plot square numbers and cubes on the same figure.\n",
    "import matplotlib.pyplot as plt\n",
    "import numpy as np\n",
    "x_values = list(range(11))\n",
    "squares = [x**2 for x in x_values]\n",
    "cubes = [x**3 for x in x_values]\n",
    "    \n",
    "plt.scatter(x_values, squares, c='blue', edgecolor='none', s=20)\n",
    "plt.scatter(x_values, cubes, c='red', edgecolor='none', s=20)\n",
    "\n",
    "plt.axis([0,11,0,1100])\n",
    "plt.show()"
   ]
  },
  {
   "cell_type": "markdown",
   "metadata": {},
   "source": [
    "# Filling the space between data sets\n",
    "The fill_between() methods fills the space between two data sets. It takes a series of x-values and two series of y-values. It also takes a facecolor to use for the fill, and an optional alpha argument that controls the color's transparency."
   ]
  },
  {
   "cell_type": "code",
   "execution_count": 24,
   "metadata": {},
   "outputs": [
    {
     "data": {
      "text/plain": [
       "<matplotlib.collections.PolyCollection at 0x2c6d7876b88>"
      ]
     },
     "execution_count": 24,
     "metadata": {},
     "output_type": "execute_result"
    },
    {
     "data": {
      "image/png": "[encoded data removed]",
      "text/plain": [
       "<Figure size 432x288 with 1 Axes>"
      ]
     },
     "metadata": {
      "needs_background": "light"
     },
     "output_type": "display_data"
    }
   ],
   "source": [
    "plt.fill_between(x_values, cubes, squares, facecolor= 'blue', alpha=0.25)"
   ]
  },
  {
   "cell_type": "markdown",
   "metadata": {},
   "source": [
    "# Working with dates and times\n",
    "Many interesting data sets have a date or time as the x-value, Python's datetime module helps you work with this kind of data."
   ]
  },
  {
   "cell_type": "markdown",
   "metadata": {},
   "source": [
    "# Generating the current date\n",
    "The datetime.now() function returns a datetime object representing the current date and time."
   ]
  },
  {
   "cell_type": "code",
   "execution_count": 25,
   "metadata": {},
   "outputs": [
    {
     "name": "stdout",
     "output_type": "stream",
     "text": [
      "01/21/2021\n"
     ]
    }
   ],
   "source": [
    "from datetime import datetime as dt\n",
    "\n",
    "today =dt.now()\n",
    "date_string = dt.strftime(today, '%m/%d/%Y')\n",
    "print(date_string)"
   ]
  },
  {
   "cell_type": "markdown",
   "metadata": {},
   "source": [
    "# Generating a specific date\n",
    "You can also generate a datetime object for any date and time you want. The positional order of arguments is year, month, and day. The hour, minute, second, and microsecond arguments are optional. "
   ]
  },
  {
   "cell_type": "code",
   "execution_count": 26,
   "metadata": {},
   "outputs": [],
   "source": [
    "from datetime import datetime as dt\n",
    "\n",
    "new_years = dt(2017, 1, 1)\n",
    "fall_equinox = dt(year=2016, month=9, day=22)"
   ]
  },
  {
   "cell_type": "markdown",
   "metadata": {},
   "source": [
    "# Datetime formatting arguments\n",
    "The strftime() function generates a formatted string from a datetime object, and the strptime() function generates a datetime object from a string. The following codes let you work with dates exactly as you need to.\n",
    "\n",
    "%A Weekday name, such as Monday\n",
    "\n",
    "%B Month name, such as January\n",
    "\n",
    "%m Month, as a number (01 to 12)\n",
    "\n",
    "%d Day of the month, as a number (01 to 31)\n",
    "\n",
    "%Y Four-digit year, such as 2016\n",
    "\n",
    "%y Two-digit year, such as 16\n",
    "\n",
    "%H Hour, in 24-hour format (00 to 23)\n",
    "\n",
    "%I Hour, in 12-hour format (01 to 12)\n",
    "\n",
    "%p AM or PM\n",
    "\n",
    "%M Minutes(00 to 59)\n",
    "\n",
    "%S Seconds(00 to 61)"
   ]
  },
  {
   "cell_type": "code",
   "execution_count": 27,
   "metadata": {},
   "outputs": [
    {
     "name": "stdout",
     "output_type": "stream",
     "text": [
      "January 01, 2017\n"
     ]
    }
   ],
   "source": [
    "#Converting a string to a datetime object\n",
    "new_years = dt.strptime('1/1/2017', '%m/%d/%Y')\n",
    "#Converting a datetime object to a string\n",
    "ny_string = dt.strftime(new_years, '%B %d, %Y')\n",
    "print(ny_string)"
   ]
  },
  {
   "cell_type": "markdown",
   "metadata": {},
   "source": [
    "# Plotting High Temperatures\n",
    "The following code creates a list of dates and a corresponding list of high temperatures. It then plots the high temperatures, with the date labels displayed in a specific format."
   ]
  },
  {
   "cell_type": "code",
   "execution_count": 28,
   "metadata": {},
   "outputs": [
    {
     "name": "stderr",
     "output_type": "stream",
     "text": [
      "C:\\Users\\vc_19\\anaconda3\\lib\\site-packages\\ipykernel_launcher.py:17: MatplotlibDeprecationWarning: Adding an axes using the same arguments as a previous axes currently reuses the earlier instance.  In a future version, a new instance will always be created and returned.  Meanwhile, this warning can be suppressed, and the future behavior ensured, by passing a unique label to each axes instance.\n"
     ]
    },
    {
     "data": {
      "image/png": "[encoded data removed]",
      "text/plain": [
       "<Figure size 500x300 with 1 Axes>"
      ]
     },
     "metadata": {
      "needs_background": "light"
     },
     "output_type": "display_data"
    }
   ],
   "source": [
    "from datetime import datetime as dt\n",
    "import matplotlib.pyplot as plt\n",
    "from matplotlib import dates as mdates\n",
    "\n",
    "dates= [\n",
    "    dt(2016, 6, 21), dt(2016, 6, 22),\n",
    "    dt(2016, 6, 23), dt(2016, 6, 24),\n",
    "]\n",
    "\n",
    "highs =[57, 68, 64, 59]\n",
    "\n",
    "fig= plt.figure(dpi=50, figsize=(10, 6))\n",
    "plt.plot(dates, highs, c='red')\n",
    "plt.title(\"Daily High Temps\", fontsize=24)\n",
    "plt.ylabel(\"Temp (F)\", fontsize=16)\n",
    "\n",
    "x_axis = plt.axes().get_xaxis()\n",
    "x_axis.set_major_formatter(mdates.DateFormatter(\"%B %d %Y\"))\n",
    "fig.autofmt_xdate()\n",
    "plt.show()"
   ]
  },
  {
   "cell_type": "markdown",
   "metadata": {},
   "source": [
    "# Multiple plots in one figure\n",
    "You can include as many indiviual graphs in one figure as you want. This is useful, for example, when comparing related datasets."
   ]
  },
  {
   "cell_type": "code",
   "execution_count": 29,
   "metadata": {},
   "outputs": [
    {
     "data": {
      "image/png": "[encoded data removed]",
      "text/plain": [
       "<Figure size 432x288 with 2 Axes>"
      ]
     },
     "metadata": {
      "needs_background": "light"
     },
     "output_type": "display_data"
    }
   ],
   "source": [
    "#Sharing an X-axis\n",
    "import matplotlib.pyplot as plt\n",
    "\n",
    "x_vals = list(range(11))\n",
    "squares = [x**2 for x in x_vals]\n",
    "cubes = [x**3 for x in x_vals]\n",
    "fig, axarr = plt.subplots(2,1, sharex=True)\n",
    "\n",
    "axarr[0].scatter(x_vals, squares)\n",
    "axarr[0].set_title('Squares')\n",
    "\n",
    "axarr[1].scatter(x_vals, cubes, c=\"red\")\n",
    "axarr[1].set_title('cubes')\n",
    "\n",
    "plt.show()\n"
   ]
  },
  {
   "cell_type": "code",
   "execution_count": 30,
   "metadata": {},
   "outputs": [
    {
     "data": {
      "image/png": "[encoded data removed]",
      "text/plain": [
       "<Figure size 432x288 with 2 Axes>"
      ]
     },
     "metadata": {
      "needs_background": "light"
     },
     "output_type": "display_data"
    }
   ],
   "source": [
    "#Sharing an Y-axis\n",
    "import matplotlib.pyplot as plt\n",
    "\n",
    "x_vals = list(range(11))\n",
    "squares = [x**2 for x in x_vals]\n",
    "cubes = [x**3 for x in x_vals]\n",
    "fig, axarr = plt.subplots(1,2, sharex=True)\n",
    "\n",
    "axarr[0].scatter(x_vals, squares)\n",
    "axarr[0].set_title('Squares')\n",
    "\n",
    "axarr[1].scatter(x_vals, cubes, c=\"red\")\n",
    "axarr[1].set_title('Cubes')\n",
    "\n",
    "plt.show()"
   ]
  }
 ],
 "metadata": {
  "kernelspec": {
   "display_name": "Python 3",
   "language": "python",
   "name": "python3"
  },
  "language_info": {
   "codemirror_mode": {
    "name": "ipython",
    "version": 3
   },
   "file_extension": ".py",
   "mimetype": "text/x-python",
   "name": "python",
   "nbconvert_exporter": "python",
   "pygments_lexer": "ipython3",
   "version": "3.7.6"
  }
 },
 "nbformat": 4,
 "nbformat_minor": 4
}
